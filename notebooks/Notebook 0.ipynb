{
 "cells": [
  {
   "cell_type": "markdown",
   "id": "8a39072e",
   "metadata": {},
   "source": [
    "# Notebook 0: Spatial Basis Functions\n",
    "\n",
    "We will nearly always need `numpy` and `matplotlib` when writing notebooks.\n"
   ]
  },
  {
   "cell_type": "code",
   "execution_count": 1,
   "id": "e0e70a9f",
   "metadata": {},
   "outputs": [],
   "source": [
    "import numpy as np\n",
    "import matplotlib.pyplot as plt\n",
    "import dedalus.public as d3"
   ]
  },
  {
   "cell_type": "markdown",
   "id": "3bfeab3e",
   "metadata": {},
   "source": [
    "## Spatial Setup\n",
    "\n",
    "In Dedalus, regardless of whether or not you have time derivatives, you will need to set up a spatial domain. This requires at least three things:\n",
    "\n",
    "1. a coordinate system\n",
    "2. a distributor to coordiate parallel computation (but you need even in serial calculation)\n",
    "3. a basis\n",
    "\n",
    "Here, we choose the simplest system: a one-dimensional Cartesian system"
   ]
  },
  {
   "cell_type": "code",
   "execution_count": 2,
   "id": "abb3fc2c",
   "metadata": {},
   "outputs": [],
   "source": [
    "nx = 64 # number of coefficients\n",
    "\n",
    "\n",
    "xcoord = d3.Coordinate('x')\n",
    "dist = d3.Distributor(xcoord, dtype=np.float64)\n",
    "xbasis = d3.RealFourier(xcoord, nx, bounds=(-np.pi,np.pi), dealias=1)"
   ]
  },
  {
   "cell_type": "markdown",
   "id": "02cf9d80",
   "metadata": {},
   "source": [
    "Now, let's define a `Field`. Fields are created by the distributor object and hold our problem data. Let's create a scalar field called `T`."
   ]
  },
  {
   "cell_type": "code",
   "execution_count": 3,
   "id": "46550e3b",
   "metadata": {},
   "outputs": [],
   "source": [
    "# Fields\n",
    "T = dist.Field(name='T', bases=xbasis)"
   ]
  },
  {
   "cell_type": "markdown",
   "id": "1f3e8a2b",
   "metadata": {},
   "source": [
    "One of the key points of Dedalus is that once you've chosen a basis and a coordinate system, all data objects can be represented either as a finite set of **grid point** values, accessed via\n",
    "```\n",
    "T['g'] # for grid\n",
    "```\n",
    "or as a set of **coefficients** representing the projection of that data onto the basis functions, accessed via\n",
    "```\n",
    "T['c'] # for coefficient\n",
    "```\n",
    "\n",
    "In order to add data, we could first do the simplest thing: set all values to one:"
   ]
  },
  {
   "cell_type": "code",
   "execution_count": 4,
   "id": "42c607cd",
   "metadata": {},
   "outputs": [],
   "source": [
    "T['g'] = 1"
   ]
  },
  {
   "cell_type": "markdown",
   "id": "699220e0",
   "metadata": {},
   "source": [
    "Note that if we simply print the data, we get what we expect:"
   ]
  },
  {
   "cell_type": "code",
   "execution_count": 5,
   "id": "13d72af3",
   "metadata": {},
   "outputs": [
    {
     "name": "stdout",
     "output_type": "stream",
     "text": [
      "[1. 1. 1. 1. 1. 1. 1. 1. 1. 1. 1. 1. 1. 1. 1. 1. 1. 1. 1. 1. 1. 1. 1. 1.\n",
      " 1. 1. 1. 1. 1. 1. 1. 1. 1. 1. 1. 1. 1. 1. 1. 1. 1. 1. 1. 1. 1. 1. 1. 1.\n",
      " 1. 1. 1. 1. 1. 1. 1. 1. 1. 1. 1. 1. 1. 1. 1. 1.]\n"
     ]
    }
   ],
   "source": [
    "print(T['g'])"
   ]
  },
  {
   "cell_type": "markdown",
   "id": "0c31df7d",
   "metadata": {},
   "source": [
    "### Exercise ###\n",
    "\n",
    "Predict what the coefficient data should look like for this. Once you've got an idea, run the next cell."
   ]
  },
  {
   "cell_type": "code",
   "execution_count": 6,
   "id": "e2664dc6",
   "metadata": {},
   "outputs": [
    {
     "data": {
      "text/plain": [
       "array([ 1.,  0.,  0.,  0.,  0.,  0.,  0.,  0.,  0.,  0.,  0.,  0.,  0.,\n",
       "        0.,  0.,  0.,  0., -0.,  0., -0.,  0., -0.,  0., -0.,  0., -0.,\n",
       "        0., -0.,  0., -0.,  0., -0.,  0.,  0.,  0.,  0.,  0.,  0.,  0.,\n",
       "        0.,  0.,  0.,  0.,  0.,  0.,  0.,  0.,  0.,  0.,  0.,  0., -0.,\n",
       "        0., -0.,  0., -0.,  0., -0.,  0., -0.,  0., -0.,  0., -0.])"
      ]
     },
     "execution_count": 6,
     "metadata": {},
     "output_type": "execute_result"
    }
   ],
   "source": [
    "T['c']"
   ]
  },
  {
   "cell_type": "markdown",
   "id": "8f79529d",
   "metadata": {},
   "source": [
    "Now, it's clear that the first coefficient is 1 and all of the others are zero, but at higher resolutions, orinting the data is a bad way to confirmthis. There are several better ways, but probably the simplest is to **plot** the coefficients:"
   ]
  },
  {
   "cell_type": "code",
   "execution_count": 7,
   "id": "27ada930",
   "metadata": {},
   "outputs": [
    {
     "data": {
      "text/plain": [
       "Text(0, 0.5, \"T['c']\")"
      ]
     },
     "execution_count": 7,
     "metadata": {},
     "output_type": "execute_result"
    },
    {
     "data": {
      "image/png": "[encoded data removed]",
      "text/plain": [
       "<Figure size 432x288 with 1 Axes>"
      ]
     },
     "metadata": {
      "image/png": {
       "height": 261,
       "width": 385
      },
      "needs_background": "light"
     },
     "output_type": "display_data"
    }
   ],
   "source": [
    "plt.plot(T['c'], 'x-')\n",
    "plt.xlabel(\"coefficient number\")\n",
    "plt.ylabel(\"T['c']\")"
   ]
  },
  {
   "cell_type": "markdown",
   "id": "7f970193",
   "metadata": {},
   "source": [
    "We've already learned quite a bit about this data, but let's dig a bit deeper. \n",
    "\n",
    "First, how big is the data? The grid and coefficient data will appear as numpy `ndarray` objects (the standard numpy data object), with a data type that will typically be either `float64` or `complex128`. Let's look at their sizes:"
   ]
  },
  {
   "cell_type": "code",
   "execution_count": 8,
   "id": "e74668d3",
   "metadata": {},
   "outputs": [
    {
     "name": "stdout",
     "output_type": "stream",
     "text": [
      "Coefficent shape: (64,)\n",
      "Grid shape: (64,)\n"
     ]
    }
   ],
   "source": [
    "print(f\"Coefficent shape: {T['c'].shape}\")\n",
    "print(f\"Grid shape: {T['g'].shape}\")"
   ]
  },
  {
   "cell_type": "markdown",
   "id": "04d93977",
   "metadata": {},
   "source": [
    "The first thing to note is that the number of coefficients is the same as the number of grid points. This is interesting! Let's dig in a bit more.\n",
    "\n",
    "The next thing to note is that the coefficients are **real numbers**, despite the fact that they represent the Fourier transform of the original data. This is because we have chosen the `RealFourier` basis, asserting that our original grid data is real. Of course, not all data we want to solve PDEs for is real, and Dedalus can handle this too, using `ComplexFourier`. \n",
    "\n",
    "Next, let's add a function of the grid points, something like\n",
    "\n",
    "$$\n",
    "T(x) = \\sin(x),\n",
    "$$\n",
    "\n",
    "which, given that the bounds on our `RealFourier` basis are $0$ and $2\\pi$, should give us one complete sine wave.\n",
    "\n",
    "Each Dedalus basis provides the locations of each of its grid points. We will access them here using the `Distributor` object's `.local_grid()` function. The \"local\" here referrs to the fact that if you run your code in parallel, different processors will have different pieces of the grid, but every processor runs **the exact same code**. "
   ]
  },
  {
   "cell_type": "code",
   "execution_count": 9,
   "id": "be2c08b8",
   "metadata": {},
   "outputs": [],
   "source": [
    "x = dist.local_grid(xbasis)"
   ]
  },
  {
   "cell_type": "code",
   "execution_count": 10,
   "id": "2b11020c",
   "metadata": {},
   "outputs": [
    {
     "ename": "SyntaxError",
     "evalue": "invalid syntax (902300111.py, line 1)",
     "output_type": "error",
     "traceback": [
      "\u001b[0;36m  Input \u001b[0;32mIn [10]\u001b[0;36m\u001b[0m\n\u001b[0;31m    T['g'] = # insert something here\u001b[0m\n\u001b[0m             ^\u001b[0m\n\u001b[0;31mSyntaxError\u001b[0m\u001b[0;31m:\u001b[0m invalid syntax\n"
     ]
    }
   ],
   "source": [
    "T['g'] = # insert something here"
   ]
  },
  {
   "cell_type": "markdown",
   "id": "67bf7990",
   "metadata": {},
   "source": [
    "Now, let's plot the data on the grid."
   ]
  },
  {
   "cell_type": "code",
   "execution_count": null,
   "id": "a134740d",
   "metadata": {},
   "outputs": [],
   "source": [
    "plt.plot(x, T['g'])\n",
    "plt.xlabel('x')\n",
    "plt.ylabel(\"T['g']\")"
   ]
  },
  {
   "cell_type": "markdown",
   "id": "c7a36c9d",
   "metadata": {},
   "source": [
    "### Exercise ###\n",
    "Using your knowledge of Fourier transforms, predict what the coefficients in `T['c']` should look like."
   ]
  },
  {
   "cell_type": "code",
   "execution_count": null,
   "id": "bc05a277",
   "metadata": {},
   "outputs": [],
   "source": [
    "T['c']"
   ]
  },
  {
   "cell_type": "markdown",
   "id": "e13aa4f8",
   "metadata": {},
   "source": [
    "Use the code below to plot it."
   ]
  },
  {
   "cell_type": "code",
   "execution_count": null,
   "id": "d4f76a6a",
   "metadata": {},
   "outputs": [],
   "source": [
    "plt.plot(T['c'],'x')\n",
    "plt.xlabel(\"coefficient number\")\n",
    "plt.ylabel(\"T['c']\")"
   ]
  },
  {
   "cell_type": "markdown",
   "id": "0e2d944d",
   "metadata": {},
   "source": [
    "Teach `.allclose()` and concepts around it"
   ]
  },
  {
   "cell_type": "markdown",
   "id": "1f8ef12e",
   "metadata": {},
   "source": [
    "### Exercise ###\n",
    "\n",
    "Now try a more complex function of $\\sin$ and $\\cos$, \n",
    "\n",
    "$$\n",
    "T(x) = 2 \\cos(x) - \\sin(x).\n",
    "$$\n",
    "\n",
    "**Before you code this up, predict what `T['c']` will be.**\n",
    "\n",
    "After you've made your prediction, plot the coefficients. "
   ]
  },
  {
   "cell_type": "code",
   "execution_count": null,
   "id": "ce68eb95",
   "metadata": {},
   "outputs": [],
   "source": []
  },
  {
   "cell_type": "markdown",
   "id": "d877cc5e",
   "metadata": {},
   "source": [
    "## Chebyshev polynomials\n",
    "\n",
    "Now, let's move on to something more complicated. Let's look at our simple $\\sin$ function, but now on a Chebyshev basis.\n",
    "\n",
    "We'll create another distributor and basis function:"
   ]
  },
  {
   "cell_type": "code",
   "execution_count": 11,
   "id": "cae10c5a",
   "metadata": {},
   "outputs": [],
   "source": [
    "nx = 64 # number of coefficients\n",
    "\n",
    "c_dist = d3.Distributor(xcoord, dtype=np.float64)\n",
    "c_xbasis = d3.Chebyshev(xcoord, nx, bounds=(-np.pi,np.pi), dealias=1)"
   ]
  },
  {
   "cell_type": "markdown",
   "id": "0b4cb6ef",
   "metadata": {},
   "source": [
    "...and a new field. Make sure to get the right $x$ points! The grid for the Chebyshev and Fourier bases are different!"
   ]
  },
  {
   "cell_type": "code",
   "execution_count": 38,
   "id": "92768b9c",
   "metadata": {},
   "outputs": [],
   "source": [
    "# Fields\n",
    "xc = c_dist.local_grid(c_xbasis)\n",
    "Tc = c_dist.Field(name='T', bases=c_xbasis)"
   ]
  },
  {
   "cell_type": "markdown",
   "id": "5e3b5d60",
   "metadata": {},
   "source": [
    "Let's look at the grid points. Note here I'm only plotting every other point to make the grid structure more clear."
   ]
  },
  {
   "cell_type": "code",
   "execution_count": 56,
   "id": "05196cbd",
   "metadata": {},
   "outputs": [
    {
     "data": {
      "image/png": "[encoded data removed]",
      "text/plain": [
       "<Figure size 432x288 with 1 Axes>"
      ]
     },
     "metadata": {
      "image/png": {
       "height": 261,
       "width": 352
      },
      "needs_background": "light"
     },
     "output_type": "display_data"
    }
   ],
   "source": [
    "plt.plot(xc[::2],np.ones_like(xc[::2]),'o', label='Chebyshev')\n",
    "plt.plot(x[::2],np.zeros_like(x[::2]),'o', label='Fourier')\n",
    "plt.legend()\n",
    "plt.xlabel(\"x grid points\")\n",
    "axes = plt.gca()\n",
    "axes.get_yaxis().set_visible(False)"
   ]
  },
  {
   "cell_type": "markdown",
   "id": "0efcb24c",
   "metadata": {},
   "source": [
    "Now we'll put $\\sin(x)$ on the field defined on a Chebyshev basis"
   ]
  },
  {
   "cell_type": "code",
   "execution_count": 45,
   "id": "ebc542f0",
   "metadata": {},
   "outputs": [],
   "source": [
    "Tc['g'] = np.sin(xc)"
   ]
  },
  {
   "cell_type": "code",
   "execution_count": 46,
   "id": "089bb905",
   "metadata": {},
   "outputs": [
    {
     "data": {
      "text/plain": [
       "[<matplotlib.lines.Line2D at 0x7f08c0a993d0>]"
      ]
     },
     "execution_count": 46,
     "metadata": {},
     "output_type": "execute_result"
    },
    {
     "data": {
      "image/png": "[encoded data removed]",
      "text/plain": [
       "<Figure size 432x288 with 1 Axes>"
      ]
     },
     "metadata": {
      "image/png": {
       "height": 248,
       "width": 386
      },
      "needs_background": "light"
     },
     "output_type": "display_data"
    }
   ],
   "source": [
    "plt.plot(xc,Tc['g'])"
   ]
  },
  {
   "cell_type": "markdown",
   "id": "f99d0ca1",
   "metadata": {},
   "source": [
    "And finally, we can plot the coefficients:"
   ]
  },
  {
   "cell_type": "code",
   "execution_count": 82,
   "id": "21227bbf",
   "metadata": {},
   "outputs": [
    {
     "data": {
      "text/plain": [
       "Text(0.9, 0.7, 'Roundoff plateau')"
      ]
     },
     "execution_count": 82,
     "metadata": {},
     "output_type": "execute_result"
    },
    {
     "data": {
      "image/png": "[encoded data removed]",
      "text/plain": [
       "<Figure size 432x288 with 1 Axes>"
      ]
     },
     "metadata": {
      "image/png": {
       "height": 261,
       "width": 402
      },
      "needs_background": "light"
     },
     "output_type": "display_data"
    }
   ],
   "source": [
    "plt.semilogy(np.abs(Tc['c']),'x')\n",
    "plt.xlabel(r\"$n$\")\n",
    "plt.ylabel(r\"$\\hat{T}_n$\")\n",
    "plt.axhline(1e-16)\n",
    "plt.annotate('Roundoff plateau', xy=(22, 1e-16),  xycoords='data',\n",
    "            xytext=(0.9, 0.7), textcoords='axes fraction',\n",
    "            arrowprops=dict(facecolor='black', shrink=0.05),\n",
    "            fontsize=18,\n",
    "            horizontalalignment='right', verticalalignment='top',\n",
    "            )"
   ]
  },
  {
   "cell_type": "markdown",
   "id": "f1154ab0",
   "metadata": {},
   "source": [
    "Cool numpy trick if you perform a logical operation on a numpy array, you get back a **boolean** array, which you can simply sum (numpy will treat True as 1 and False as zero) to get the count of coefficients above some threshold value."
   ]
  },
  {
   "cell_type": "code",
   "execution_count": 65,
   "id": "51709acc",
   "metadata": {},
   "outputs": [
    {
     "name": "stdout",
     "output_type": "stream",
     "text": [
      "[False  True False]...\n",
      "There are 10 Chebyshev T coefficients above epsilon = 1.00e-15\n"
     ]
    }
   ],
   "source": [
    "eps = 1e-15\n",
    "coeff_above_thresh = np.abs(Tc['c'])> eps\n",
    "print(f\"{coeff_above_thresh[0:3]:}...\") # just the first few\n",
    "\n",
    "non_zero_count = np.sum(coeff_above_thresh)\n",
    "print(f\"There are {non_zero_count:} Chebyshev T coefficients above epsilon = {eps:5.2e}\" )"
   ]
  },
  {
   "cell_type": "markdown",
   "id": "4648124b",
   "metadata": {},
   "source": [
    "Note we need ten coefficients in Chebyshev polynomials to represent something that takes only one in Fourier. **This is not a disadvantage of Chebyshev! Of course a sin (or cos) will have a single projection in a basis of those functions!**"
   ]
  }
 ],
 "metadata": {
  "kernelspec": {
   "display_name": "Python 3 (ipykernel)",
   "language": "python",
   "name": "python3"
  },
  "language_info": {
   "codemirror_mode": {
    "name": "ipython",
    "version": 3
   },
   "file_extension": ".py",
   "mimetype": "text/x-python",
   "name": "python",
   "nbconvert_exporter": "python",
   "pygments_lexer": "ipython3",
   "version": "3.9.10"
  }
 },
 "nbformat": 4,
 "nbformat_minor": 5
}
