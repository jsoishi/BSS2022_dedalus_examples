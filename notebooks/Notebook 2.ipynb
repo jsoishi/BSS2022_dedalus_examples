{
 "cells": [
  {
   "cell_type": "markdown",
   "id": "c34c32b6",
   "metadata": {},
   "source": [
    "# Notebook 2: Burgers' Equation\n",
    "\n",
    "$$\n",
    "\\partial_t u - \\nu \\partial_x^2 u  = -u \\partial_x u\n",
    "$$"
   ]
  },
  {
   "cell_type": "code",
   "execution_count": null,
   "id": "a329b838",
   "metadata": {},
   "outputs": [],
   "source": [
    "import numpy as np\n",
    "import matplotlib.pyplot as plt\n",
    "import dedalus.public as d3\n",
    "from load_d3 import load_d3\n",
    "import os "
   ]
  },
  {
   "cell_type": "code",
   "execution_count": null,
   "id": "081f1329",
   "metadata": {},
   "outputs": [],
   "source": [
    "nx = 1024\n",
    "Lx = 10\n",
    "\n",
    "# Bases\n",
    "xcoord = d3.Coordinate('x')\n",
    "dist = d3.Distributor(xcoord, dtype=np.float64)\n",
    "xbasis = d3.RealFourier(xcoord, nx, bounds=(0, Lx), dealias=1)\n",
    "\n",
    "# Fields\n",
    "u = dist.Field(name='u', bases=xbasis)\n",
    "\n",
    "# Problem\n",
    "problem = d3.IVP([u,], namespace=locals())"
   ]
  },
  {
   "cell_type": "code",
   "execution_count": null,
   "id": "49ca9337",
   "metadata": {},
   "outputs": [],
   "source": [
    "# Substitutions\n",
    "dx = lambda A: d3.Differentiate(A, xcoord)"
   ]
  },
  {
   "cell_type": "code",
   "execution_count": null,
   "id": "55c100d6",
   "metadata": {},
   "outputs": [],
   "source": [
    "nu = 8e-4"
   ]
  },
  {
   "cell_type": "code",
   "execution_count": null,
   "id": "1ce8f332",
   "metadata": {},
   "outputs": [],
   "source": [
    "# Add main equation, with linear terms on the LHS and nonlinear terms on the RHS\n",
    "problem.add_equation(\"dt(u) - nu*dx(dx(u))   = u*dx(u)\")"
   ]
  },
  {
   "cell_type": "code",
   "execution_count": null,
   "id": "4a81107d",
   "metadata": {},
   "outputs": [],
   "source": [
    "# Build solver\n",
    "solver = problem.build_solver(d3.RK222)"
   ]
  },
  {
   "cell_type": "code",
   "execution_count": null,
   "id": "15436fe4",
   "metadata": {},
   "outputs": [],
   "source": [
    "x = dist.local_grid(xbasis)\n",
    "n = 20\n",
    "u['g'] = np.log(1 + np.cosh(n)**2/np.cosh(n*(x-0.2*Lx))**2) / (2*n)"
   ]
  },
  {
   "cell_type": "code",
   "execution_count": null,
   "id": "a07925cf",
   "metadata": {},
   "outputs": [],
   "source": [
    "solver.stop_sim_time = 5"
   ]
  },
  {
   "cell_type": "code",
   "execution_count": null,
   "id": "04d15c4b",
   "metadata": {},
   "outputs": [],
   "source": [
    "if not os.path.exists('burgers'):\n",
    "    os.mkdir('burgers')\n",
    "check = solver.evaluator.add_file_handler('burgers/checkpoints', iter=10, parallel='gather')\n",
    "check.add_tasks(solver.state)"
   ]
  },
  {
   "cell_type": "code",
   "execution_count": null,
   "id": "fa1be368",
   "metadata": {},
   "outputs": [],
   "source": [
    "# Main loop\n",
    "timestep = 1e-3\n",
    "while solver.proceed:\n",
    "    solver.step(timestep)\n",
    "    if solver.iteration % 200 == 0:\n",
    "        print('Completed iteration {}'.format(solver.iteration))"
   ]
  },
  {
   "cell_type": "code",
   "execution_count": null,
   "id": "063114ae",
   "metadata": {},
   "outputs": [],
   "source": [
    "df = load_d3(\"burgers/checkpoints/checkpoints_s1.h5\")"
   ]
  },
  {
   "cell_type": "code",
   "execution_count": null,
   "id": "cec54e7a",
   "metadata": {},
   "outputs": [],
   "source": [
    "a = df['u'].plot(x=\"x\",y=\"t\")"
   ]
  },
  {
   "cell_type": "code",
   "execution_count": null,
   "id": "7e1fa030",
   "metadata": {},
   "outputs": [],
   "source": [
    "df['u'].shape"
   ]
  },
  {
   "cell_type": "code",
   "execution_count": null,
   "id": "39f8fe96",
   "metadata": {},
   "outputs": [],
   "source": [
    "df['u'][::50].plot(x=\"x\", col=\"t\",col_wrap=3)"
   ]
  },
  {
   "cell_type": "code",
   "execution_count": null,
   "id": "ac483dee",
   "metadata": {},
   "outputs": [],
   "source": [
    "df['u'][-1].plot(x=\"x\")\n",
    "plt.xlim(8,10)"
   ]
  },
  {
   "cell_type": "code",
   "execution_count": null,
   "id": "18eb7e2d",
   "metadata": {},
   "outputs": [],
   "source": []
  }
 ],
 "metadata": {
  "kernelspec": {
   "display_name": "Python 3 (ipykernel)",
   "language": "python",
   "name": "python3"
  },
  "language_info": {
   "codemirror_mode": {
    "name": "ipython",
    "version": 3
   },
   "file_extension": ".py",
   "mimetype": "text/x-python",
   "name": "python",
   "nbconvert_exporter": "python",
   "pygments_lexer": "ipython3",
   "version": "3.9.10"
  }
 },
 "nbformat": 4,
 "nbformat_minor": 5
}
