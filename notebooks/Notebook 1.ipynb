{
 "cells": [
  {
   "cell_type": "markdown",
   "id": "6a49f924",
   "metadata": {},
   "source": [
    "# Partial Differential Equations with Dedalus\n",
    "\n",
    "Start with the heat equation in one dimension,\n",
    "$$\n",
    "\\partial_t T = \\kappa \\partial_x^2 T.\n",
    "$$\n",
    "In one sense, this is a very pointless equation to solve numerically, since it is a linear, constant coefficient PDE that can be solved exactly. However, we begin with it for two reasons: we have a good *physical* intuition of what the solution will do, and we can make a *quantitative* comparison between our numerical method and the exact solution. I assure you that this is not just a pedegogical exercise that you won't do later in your career. Testing against (and constructing) known analytic solutions (for the mathematically minded student: this is just physics-speak for an exact solution, usually in closed form.) is an **essential part of numerical work**. It is akin to calibrating laboratory instruments. \n",
    "\n",
    "\n",
    "Of course, any PDE requires both initial and boundary conditions. To understand the number of boundary conditions is somewhat complicated, but for the kind of approximations that we are making to solve them, there needs to be **one per spatial derivative**, so in this case, we need two. \n",
    "\n",
    "\n",
    "## First Order Form\n",
    "`d3` can solve differential equations of arbitrary spatial order without performance loss, but for all of the examples we will consider, we will reduce all of the equations to an equivalent first order form. This should be familiar to you from Newton's second law, which we can write as a system of first order equations for $x$ and $v$:\n",
    "\n",
    "$$\n",
    "\\partial_t \\begin{bmatrix} x\\\\ v\\end{bmatrix} = \\begin{bmatrix} v\\\\ F \\end{bmatrix}.\n",
    "$$\n",
    "\n",
    "For the heat equation, we can write $T_x = \\partial_x T$, and then we have the system\n",
    "$$\n",
    "\\begin{align}\n",
    "\\partial_t T &= \\kappa \\partial_x T_x\\\\\n",
    "T_x &= \\partial_x T.\n",
    "\\end{align}\n",
    "$$\n",
    "\n",
    "Remember what we are ultimately trying to do: find a **polynomial** solution to our problem. That is, we are projecting all of our fields against some finite set of polynomials. \n",
    "\n",
    "Dedalus uses the $\\tau$ method to do this, which is essentially to *modify the equation* such that a polynomial is an exact solution to the modified equation. For us, that will look like\n",
    "\n",
    "$$\n",
    "\\partial_t T - \\kappa \\partial_x^2 T + \\tau_1 P_1(x) + \\tau_2 P_2(x) = 0.\n",
    "$$\n",
    "\n",
    "The $\\tau$ variables are scalar variables in this case, and $P_n(x)$ are some polynomials, which we are free to choose.\n",
    "\n",
    "If we have discretized $T$ on a set of $N$ polynomials, then we have $N$ degrees of freedom,\n",
    "\n",
    "$$\n",
    "T(x) = \\hat{T}_0 P_0(x) + \\hat{T}_1 P_1(x) + \\cdots + \\hat{T}_{N-1} P_{N-1}(x).\n",
    "$$\n",
    "\n",
    "The $\\tau$ method allows us to impose boundary conditions: we now have two additional degrees of freedom, $\\tau_1$ and $\\tau_1$ that can "
   ]
  },
  {
   "cell_type": "code",
   "execution_count": null,
   "id": "e0e70a9f",
   "metadata": {},
   "outputs": [],
   "source": [
    "import numpy as np\n",
    "import matplotlib.pyplot as plt\n",
    "import dedalus.public as d3\n",
    "from load_d3 import load_d3\n",
    "import os"
   ]
  },
  {
   "cell_type": "code",
   "execution_count": null,
   "id": "46550e3b",
   "metadata": {},
   "outputs": [],
   "source": [
    "nx = 1024\n",
    "Lx = 1\n",
    "\n",
    "# Bases\n",
    "xcoord = d3.Coordinate('x')\n",
    "dist = d3.Distributor(xcoord, dtype=np.float64)\n",
    "xbasis = d3.Chebyshev(xcoord, nx, bounds=(0, Lx), dealias=1)\n",
    "\n",
    "# Fields\n",
    "T = dist.Field(name='T', bases=xbasis)\n",
    "tau1 = dist.Field(name='tau1')\n",
    "tau2 = dist.Field(name='tau2')\n",
    "\n",
    "# Problem\n",
    "problem = d3.IVP([T, tau1, tau2], namespace=locals())"
   ]
  },
  {
   "cell_type": "code",
   "execution_count": null,
   "id": "bcc6dd21",
   "metadata": {},
   "outputs": [],
   "source": [
    "# Substitutions\n",
    "dx = lambda A: d3.Differentiate(A, xcoord)\n",
    "kappa = 1\n",
    "\n",
    "# Tau polynomials\n",
    "tau_basis = xbasis.derivative_basis(1)\n",
    "p1 = dist.Field(bases=tau_basis)\n",
    "p2 = dist.Field(bases=tau_basis)\n",
    "p1['c'][-1] = 1\n",
    "p2['c'][-1] = 1\n",
    "\n",
    "Tx = dx(T) + p2*tau2"
   ]
  },
  {
   "cell_type": "code",
   "execution_count": null,
   "id": "ccae63bd",
   "metadata": {},
   "outputs": [],
   "source": [
    "# Add main equation, with linear terms on the LHS and nonlinear terms on the RHS\n",
    "problem.add_equation(\"dt(T) - kappa*dx(Tx)  + p1*tau1 = 0\")\n",
    "\n",
    "# Add boundary conditions\n",
    "problem.add_equation(\"T(x='left') = 0\")\n",
    "problem.add_equation(\"T(x='right') = 0\")"
   ]
  },
  {
   "cell_type": "markdown",
   "id": "7d15d3fa",
   "metadata": {},
   "source": [
    "Dedalus rule of thumb: if you have no other knowledge, use `RK222` as your timestepper."
   ]
  },
  {
   "cell_type": "code",
   "execution_count": null,
   "id": "d0cffb27",
   "metadata": {},
   "outputs": [],
   "source": [
    "# Build solver\n",
    "solver = problem.build_solver(d3.RK222)"
   ]
  },
  {
   "cell_type": "markdown",
   "id": "c57f61c4",
   "metadata": {},
   "source": [
    "When to stop? \n",
    "\n",
    "**Exercise:** Use dimensional analysis to find a *characteristic time scale* for this problem."
   ]
  },
  {
   "cell_type": "code",
   "execution_count": null,
   "id": "87423b02",
   "metadata": {},
   "outputs": [],
   "source": [
    "# Stopping criteria\n",
    "solver.stop_sim_time = 0.5"
   ]
  },
  {
   "cell_type": "code",
   "execution_count": null,
   "id": "dcd29f92",
   "metadata": {},
   "outputs": [],
   "source": [
    "x0 = 0.5\n",
    "sigma = 0.05"
   ]
  },
  {
   "cell_type": "code",
   "execution_count": null,
   "id": "f46bda69",
   "metadata": {},
   "outputs": [],
   "source": [
    "# Setup a gaussian pulse\n",
    "x = dist.local_grid(xbasis)\n",
    "T['g'] = np.exp(-(x - x0)**2/sigma**2)"
   ]
  },
  {
   "cell_type": "code",
   "execution_count": null,
   "id": "d336e626",
   "metadata": {},
   "outputs": [],
   "source": [
    "if not os.path.exists('heat'):\n",
    "    os.mkdir('heat')\n",
    "check = solver.evaluator.add_file_handler('heat/checkpoints', iter=10, parallel='gather')\n",
    "check.add_tasks(solver.state)"
   ]
  },
  {
   "cell_type": "code",
   "execution_count": null,
   "id": "e0c0a8a9",
   "metadata": {},
   "outputs": [],
   "source": [
    "# Main loop\n",
    "timestep = 0.001\n",
    "while solver.proceed:\n",
    "    solver.step(timestep)\n",
    "    if solver.iteration % 200 == 0:\n",
    "        print('Completed iteration {}'.format(solver.iteration))"
   ]
  },
  {
   "cell_type": "code",
   "execution_count": null,
   "id": "fc64ceb1",
   "metadata": {},
   "outputs": [],
   "source": [
    "df = load_d3(\"heat/checkpoints/checkpoints_s1.h5\")"
   ]
  },
  {
   "cell_type": "markdown",
   "id": "eb6791ca",
   "metadata": {},
   "source": [
    "A very good way to visualize 1-D problems is what is called a *space-time diagram* (in climate science, this is frequently called a *Hovmöller diagram*). This is a simply a \"heat map\" of values on a time-space grid. We use `plt.pcolormesh` to do this because of the non-uniform grid of Chebyshev polynomials."
   ]
  },
  {
   "cell_type": "code",
   "execution_count": null,
   "id": "8bb468bf",
   "metadata": {},
   "outputs": [],
   "source": [
    "# Plot solution\n",
    "plt.figure(figsize=(10,10))\n",
    "df['T'].plot(x=\"x\", y=\"t\")"
   ]
  },
  {
   "cell_type": "markdown",
   "id": "fc6a82f2",
   "metadata": {},
   "source": [
    "Note that this solution decays so fast that the evolution is hardly visible in this plot. Let's plot several times on a 1D plot:"
   ]
  },
  {
   "cell_type": "code",
   "execution_count": null,
   "id": "42c607cd",
   "metadata": {},
   "outputs": [],
   "source": [
    "df['T'][:10].plot(x=\"x\", col=\"t\", col_wrap=3)"
   ]
  },
  {
   "cell_type": "markdown",
   "id": "794115ea",
   "metadata": {},
   "source": [
    "## Comparing against analytical solution\n",
    "\n",
    "The analytical solution to this problem is \n",
    "\n",
    "$$\n",
    "T(t,x) = \\sum_k B_k \\exp(-\\kappa k^2 t),\n",
    "$$\n",
    "\n",
    "where $B_n$ are the the Fourier coefficients of the initial conditions,\n",
    "\n",
    "$$\n",
    "B_k = \\int T(0,x) \\sin(n\\pi x/L_x).\n",
    "$$\n",
    "\n",
    "Note that this analytical solution is defined on Fourier, not Chebyshev polynomials, as is typical for linear, constant coefficient, homogeneous PDEs.\n",
    "\n",
    "**Exercise:** Create a fourier basis and compute $B_N$, then use that to construct the analytic solution and check your Dedalus solution against it."
   ]
  },
  {
   "cell_type": "code",
   "execution_count": null,
   "id": "6515baf6",
   "metadata": {},
   "outputs": [],
   "source": []
  }
 ],
 "metadata": {
  "kernelspec": {
   "display_name": "Python 3 (ipykernel)",
   "language": "python",
   "name": "python3"
  },
  "language_info": {
   "codemirror_mode": {
    "name": "ipython",
    "version": 3
   },
   "file_extension": ".py",
   "mimetype": "text/x-python",
   "name": "python",
   "nbconvert_exporter": "python",
   "pygments_lexer": "ipython3",
   "version": "3.9.10"
  }
 },
 "nbformat": 4,
 "nbformat_minor": 5
}
